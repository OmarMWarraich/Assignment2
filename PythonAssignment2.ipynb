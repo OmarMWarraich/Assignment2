{
 "cells": [
  {
   "cell_type": "code",
   "execution_count": 2,
   "metadata": {},
   "outputs": [],
   "source": [
    "##Python Assignment-Timing(12:15PM to 3:15PM)\n"
   ]
  },
  {
   "cell_type": "code",
   "execution_count": 3,
   "metadata": {},
   "outputs": [],
   "source": [
    "###String Built in Method ###Eq comprising 20 operators and operands"
   ]
  },
  {
   "cell_type": "code",
   "execution_count": 4,
   "metadata": {},
   "outputs": [
    {
     "data": {
      "text/plain": [
       "['__add__',\n",
       " '__class__',\n",
       " '__contains__',\n",
       " '__delattr__',\n",
       " '__dir__',\n",
       " '__doc__',\n",
       " '__eq__',\n",
       " '__format__',\n",
       " '__ge__',\n",
       " '__getattribute__',\n",
       " '__getitem__',\n",
       " '__getnewargs__',\n",
       " '__gt__',\n",
       " '__hash__',\n",
       " '__init__',\n",
       " '__init_subclass__',\n",
       " '__iter__',\n",
       " '__le__',\n",
       " '__len__',\n",
       " '__lt__',\n",
       " '__mod__',\n",
       " '__mul__',\n",
       " '__ne__',\n",
       " '__new__',\n",
       " '__reduce__',\n",
       " '__reduce_ex__',\n",
       " '__repr__',\n",
       " '__rmod__',\n",
       " '__rmul__',\n",
       " '__setattr__',\n",
       " '__sizeof__',\n",
       " '__str__',\n",
       " '__subclasshook__',\n",
       " 'capitalize',\n",
       " 'casefold',\n",
       " 'center',\n",
       " 'count',\n",
       " 'encode',\n",
       " 'endswith',\n",
       " 'expandtabs',\n",
       " 'find',\n",
       " 'format',\n",
       " 'format_map',\n",
       " 'index',\n",
       " 'isalnum',\n",
       " 'isalpha',\n",
       " 'isascii',\n",
       " 'isdecimal',\n",
       " 'isdigit',\n",
       " 'isidentifier',\n",
       " 'islower',\n",
       " 'isnumeric',\n",
       " 'isprintable',\n",
       " 'isspace',\n",
       " 'istitle',\n",
       " 'isupper',\n",
       " 'join',\n",
       " 'ljust',\n",
       " 'lower',\n",
       " 'lstrip',\n",
       " 'maketrans',\n",
       " 'partition',\n",
       " 'replace',\n",
       " 'rfind',\n",
       " 'rindex',\n",
       " 'rjust',\n",
       " 'rpartition',\n",
       " 'rsplit',\n",
       " 'rstrip',\n",
       " 'split',\n",
       " 'splitlines',\n",
       " 'startswith',\n",
       " 'strip',\n",
       " 'swapcase',\n",
       " 'title',\n",
       " 'translate',\n",
       " 'upper',\n",
       " 'zfill']"
      ]
     },
     "execution_count": 4,
     "metadata": {},
     "output_type": "execute_result"
    }
   ],
   "source": [
    "name = \"Omar Mohammad\"\n",
    "dir(name)"
   ]
  },
  {
   "cell_type": "code",
   "execution_count": 7,
   "metadata": {},
   "outputs": [
    {
     "name": "stdout",
     "output_type": "stream",
     "text": [
      "Omar mohammad\n"
     ]
    }
   ],
   "source": [
    "name = \"Omar Mohammad\"\n",
    "print(name.capitalize())     #capitalizes first alphabet letter of string"
   ]
  },
  {
   "cell_type": "code",
   "execution_count": 23,
   "metadata": {},
   "outputs": [
    {
     "name": "stdout",
     "output_type": "stream",
     "text": [
      "omar mohammad\n",
      "   Omar MOHammad    \n",
      "3\n",
      "b'Omar MOHammad'\n",
      "False\n",
      "True\n"
     ]
    }
   ],
   "source": [
    "name = \"Omar MOHammad\"\n",
    "print(name.casefold())       #lowercase\n",
    "print(name.center(20))       #20  white-space characters from left to right\n",
    "print(name.count('m'))       #prints the no of times the specified alphabet is used in the string\n",
    "print(name.encode())         #commas\n",
    "print(name.endswith('r'))    #False coz the name doesnt end with r\n",
    "print(name.endswith('d'))    #True\n"
   ]
  },
  {
   "cell_type": "code",
   "execution_count": 34,
   "metadata": {},
   "outputs": [
    {
     "name": "stdout",
     "output_type": "stream",
     "text": [
      "Omar    Mohammad        Warraich\n",
      "Omar                Mohammad            Warraich\n"
     ]
    }
   ],
   "source": [
    "name = \"Omar\\tMohammad\\tWarraich\"\n",
    "print(name.expandtabs())     #gives default space i.e. 8 btw the string charachters\n",
    "print(name.expandtabs(20))   #gives specified space btw the string charachters"
   ]
  },
  {
   "cell_type": "code",
   "execution_count": 8,
   "metadata": {},
   "outputs": [
    {
     "name": "stdout",
     "output_type": "stream",
     "text": [
      "12\n",
      "7\n",
      "0\n",
      "5\n",
      "6\n",
      "1\n"
     ]
    }
   ],
   "source": [
    "name = \"Omar Mohammad\"\n",
    "print(name.find('d'))       #specifies index no of charachter d\n",
    "print(name.find('h'))       #specifies index no of charachter h\n",
    "print(name.find('O'))       #specifies index no of charachter O\n",
    "print(name.find('M'))       #specifies index no of charachter M\n",
    "print(name.find('o'))       #specifies index no of charachter o\n",
    "print(name.find('m'))       #specifies index no of charachter m occurring in the first instance"
   ]
  },
  {
   "cell_type": "code",
   "execution_count": 16,
   "metadata": {},
   "outputs": [
    {
     "name": "stdout",
     "output_type": "stream",
     "text": [
      "\n",
      "name = Omar Mohammad Warraich\n",
      "father_name = Zia Mohammad Warraich\n",
      "program = PIAIC\n",
      "\n",
      "                       \n",
      "father_name = Zia Mohammad Warraich\n",
      "name = Omar Mohammad Warraich\n",
      "program = PIAIC\n",
      "\n"
     ]
    }
   ],
   "source": [
    "name           =   \"Omar Mohammad Warraich\"\n",
    "father_name    =   \"Zia Mohammad Warraich\"\n",
    "program        =   \"PIAIC\"\n",
    "\n",
    "card= \"\"\"\n",
    "name = {}\n",
    "father_name = {}\n",
    "program = {}\n",
    "\"\"\"\n",
    "print(card.format(name, father_name, program))     # format prints the specified string sequence of the card\n",
    "#specified print sequence changed\n",
    "card= \"\"\"                       \n",
    "father_name = {}\n",
    "name = {}\n",
    "program = {}\n",
    "\"\"\"\n",
    "print(card.format(father_name, name, program))      # specified print sequence changed\n"
   ]
  },
  {
   "cell_type": "code",
   "execution_count": 15,
   "metadata": {},
   "outputs": [
    {
     "name": "stdout",
     "output_type": "stream",
     "text": [
      "                       \n",
      "father_name = Zia Mohammad Warraich\n",
      "name = Omar Mohammad Warraich\n",
      "program = PIAIC\n",
      "\n"
     ]
    }
   ],
   "source": [
    "name           =   \"Omar Mohammad Warraich\"\n",
    "father_name    =   \"Zia Mohammad Warraich\"\n",
    "program        =   \"PIAIC\"\n",
    "#specified print sequence changed\n",
    "card= \"\"\"                       \n",
    "father_name = {}\n",
    "name = {}\n",
    "program = {}\n",
    "\"\"\"\n",
    "print(card.format(father_name, name, program))      # specified print sequence changed\n"
   ]
  },
  {
   "cell_type": "code",
   "execution_count": 27,
   "metadata": {},
   "outputs": [
    {
     "name": "stdout",
     "output_type": "stream",
     "text": [
      "Omar Warraich\n",
      "Toyota Corolla\n"
     ]
    }
   ],
   "source": [
    "name = {\"first_name\": \"Omar\", \"last_name\": \"Warraich\"}\n",
    "print(\"{first_name} {last_name}\".format_map(name))       # mapping string values together\n",
    "Brand = {\"Manufacturer\": \"Toyota\", \"Make\": \"Corolla\"}\n",
    "print(\"{Manufacturer} {Make}\".format_map(Brand))"
   ]
  },
  {
   "cell_type": "code",
   "execution_count": 26,
   "metadata": {},
   "outputs": [
    {
     "name": "stdout",
     "output_type": "stream",
     "text": [
      "11\n"
     ]
    }
   ],
   "source": [
    "name = \"Omar Warraich\"\n",
    "print(name.index(\"c\"))                                 # index no of c in string"
   ]
  },
  {
   "cell_type": "code",
   "execution_count": 39,
   "metadata": {},
   "outputs": [
    {
     "name": "stdout",
     "output_type": "stream",
     "text": [
      "False\n",
      "True\n"
     ]
    }
   ],
   "source": [
    "name = \"Omar Warraich\"\n",
    "print(name.isalnum())                                  # False coz string isnt alphanumeric\n",
    "name = \"OmarWarraich12\"\n",
    "print(name.isalnum())                                  # alphanumeric i.e. string contains alphabets and numbers"
   ]
  },
  {
   "cell_type": "code",
   "execution_count": 42,
   "metadata": {},
   "outputs": [
    {
     "name": "stdout",
     "output_type": "stream",
     "text": [
      "False\n",
      "True\n"
     ]
    }
   ],
   "source": [
    "name = \"Omar Mohammad\"\n",
    "print(name.isalpha())                                  # False coz string has white space\n",
    "name = \"OmarMohammadWarraich\"\n",
    "print(name.isalpha())                                  # True coz string doesnt have white space"
   ]
  },
  {
   "cell_type": "code",
   "execution_count": 64,
   "metadata": {},
   "outputs": [
    {
     "name": "stdout",
     "output_type": "stream",
     "text": [
      "True\n",
      "True\n",
      "True\n",
      "True\n"
     ]
    }
   ],
   "source": [
    "name = \"_Omar Mohammad\" \n",
    "print(name.isascii())                                  # True coz string has ascii values\n",
    "name = \"Omar11Mohammad\"\n",
    "print(name.isascii())\n",
    "name = \"Omar\"\n",
    "print(name.isascii())\n",
    "name = \"Omar~~>> Mohammad\"\n",
    "print(name.isascii())"
   ]
  },
  {
   "cell_type": "code",
   "execution_count": 63,
   "metadata": {},
   "outputs": [
    {
     "name": "stdout",
     "output_type": "stream",
     "text": [
      "True\n",
      "True\n",
      "False\n",
      "False\n"
     ]
    }
   ],
   "source": [
    "name = \"9876\"\n",
    "print(name.isdecimal())                              # True coz string has decimal values\n",
    "print(name.isdigit())                                #  =====\n",
    "name = \"Omar987\"\n",
    "print(name.isdecimal())                              # False coz string carries alphabets \n",
    "print(name.isdigit())                                #  ====="
   ]
  },
  {
   "cell_type": "code",
   "execution_count": 61,
   "metadata": {},
   "outputs": [
    {
     "name": "stdout",
     "output_type": "stream",
     "text": [
      "False\n",
      "True\n",
      "False\n",
      "True\n"
     ]
    }
   ],
   "source": [
    "name=\"Omar Warraich\"\n",
    "print(name.isidentifier())                           # False when string has spaces\n",
    "name=\"_Omar_Warraich\"\n",
    "print(name.isidentifier())\n",
    "name=\"_Omar Warraich\"\n",
    "print(name.isidentifier())\n",
    "name=\"OmarWarraich\"\n",
    "print(name.isidentifier())"
   ]
  },
  {
   "cell_type": "code",
   "execution_count": 67,
   "metadata": {},
   "outputs": [
    {
     "name": "stdout",
     "output_type": "stream",
     "text": [
      "False\n",
      "True\n"
     ]
    }
   ],
   "source": [
    "name=\"Omar Warraich\"\n",
    "print(name.islower())                               # if string carries all lowercase letters true otherwise false\n",
    "name=\"omarwarraich\"\n",
    "print(name.islower())"
   ]
  },
  {
   "cell_type": "code",
   "execution_count": 69,
   "metadata": {},
   "outputs": [
    {
     "name": "stdout",
     "output_type": "stream",
     "text": [
      "True\n",
      "False\n"
     ]
    }
   ],
   "source": [
    "name=\"98765\"\n",
    "print(name.isnumeric())                            # True if all string elements are numbers else False\n",
    "name=\"Omar\"\n",
    "print(name.isnumeric())"
   ]
  },
  {
   "cell_type": "code",
   "execution_count": 73,
   "metadata": {},
   "outputs": [
    {
     "name": "stdout",
     "output_type": "stream",
     "text": [
      "True\n",
      "False\n",
      "True\n",
      "True\n"
     ]
    }
   ],
   "source": [
    "name=\"Omar Warraich\"                     \n",
    "print(name.isprintable())                          # True if string is empty or name carries printable charachters else false\n",
    "print(name.isspace())                              # True only when string has all white spaces else False\n",
    "name = \" \" \n",
    "print(name.isprintable())\n",
    "print(name.isspace())"
   ]
  },
  {
   "cell_type": "code",
   "execution_count": 76,
   "metadata": {},
   "outputs": [
    {
     "name": "stdout",
     "output_type": "stream",
     "text": [
      "True\n",
      "False\n",
      "False\n"
     ]
    }
   ],
   "source": [
    "name=\"Omar Warraich\"\n",
    "print(name.istitle())                              # True if all string words start with uppercase letters else False\n",
    "name=\"OMar WArraich\"                               # False when any letter other than the starting letter also capital\n",
    "print(name.istitle())\n",
    "name=\"Omar warraich\"\n",
    "print(name.istitle())"
   ]
  },
  {
   "cell_type": "code",
   "execution_count": 78,
   "metadata": {},
   "outputs": [
    {
     "name": "stdout",
     "output_type": "stream",
     "text": [
      "False\n",
      "True\n"
     ]
    }
   ],
   "source": [
    "name=\"Omar Warraich\"\n",
    "print(name.isupper())                             #True only when all string else letters are capital else false\n",
    "name=\"OMAR WARRAICH\"\n",
    "print(name.isupper())"
   ]
  },
  {
   "cell_type": "code",
   "execution_count": 100,
   "metadata": {},
   "outputs": [
    {
     "name": "stdout",
     "output_type": "stream",
     "text": [
      "OWarraichmWarraichaWarraichr\n",
      "222232224\n",
      "10    20    30    4\n"
     ]
    }
   ],
   "source": [
    "first_name=\"Omar\"\n",
    "last_name=\"Warraich\"\n",
    "print(last_name.join(first_name))                #each letter of first name is concatenate to the front of last_name. last letter of firstname at the end of last name\n",
    "num_list = ['2', '3', '4']\n",
    "add = \"222\"\n",
    "print(add.join(num_list))\n",
    "numlist = ['1', '2', '3', '4']\n",
    "separator = '0    '\n",
    "print(separator.join(numlist))"
   ]
  },
  {
   "cell_type": "code",
   "execution_count": 139,
   "metadata": {},
   "outputs": [
    {
     "name": "stdout",
     "output_type": "stream",
     "text": [
      "    Omar\n",
      "    Omar   Warraich\n"
     ]
    }
   ],
   "source": [
    "name=\"    Omar\"\n",
    "print(name.ljust(0))\n",
    "name1=name.ljust(10)                             # 10 white space charachters from left in the string\n",
    "print(name1, (\"Warraich\"))"
   ]
  },
  {
   "cell_type": "code",
   "execution_count": 94,
   "metadata": {},
   "outputs": [
    {
     "name": "stdout",
     "output_type": "stream",
     "text": [
      "omar warraich\n"
     ]
    }
   ],
   "source": [
    "name=\"Omar Warraich\"\n",
    "print(name.lower())                              # prints lowercase letters of all string elements"
   ]
  },
  {
   "cell_type": "code",
   "execution_count": 96,
   "metadata": {},
   "outputs": [
    {
     "name": "stdout",
     "output_type": "stream",
     "text": [
      "      Omar Warraich\n",
      "Omar Warraich\n"
     ]
    }
   ],
   "source": [
    "name = \"      Omar Warraich\"\n",
    "print(name)\n",
    "print(name.lstrip())                             # strips all the white space from the left side of the string"
   ]
  },
  {
   "cell_type": "code",
   "execution_count": 109,
   "metadata": {},
   "outputs": [
    {
     "name": "stdout",
     "output_type": "stream",
     "text": [
      "{97: 49, 44: 44, 98: 50, 99: 51, 100: 52, 101: 53}\n",
      "a\n",
      "1\n",
      ",\n",
      "b\n",
      "2\n",
      "c\n",
      "5\n"
     ]
    }
   ],
   "source": [
    "# maketrans creates a one to one mapping of a charachter to its translation/replacement creating a unicode representation of \n",
    "# each charachter\n",
    "name1 = \"a,b,c,d,e\"\n",
    "name2 = \"1,2,3,4,5\"\n",
    "t=\" \".maketrans(name1,name2)             # maps each charachter of name 1 with name2 using unicode representation.\n",
    "print(t)\n",
    "print(chr(97))                           # 97 = a\n",
    "print(chr(49))                           # 49 = 1\n",
    "print(chr(44))\n",
    "print(chr(98))                           # 98 = b\n",
    "print(chr(50))                           # 50 = 2\n",
    "print(chr(99))                           # 99 = c, 51 =3, 100 = d, 52 = 4, 101 = e, 53 = 5\n",
    "print(chr(53))"
   ]
  },
  {
   "cell_type": "code",
   "execution_count": 115,
   "metadata": {},
   "outputs": [
    {
     "name": "stdout",
     "output_type": "stream",
     "text": [
      "('', 'Omar', 'MohammadWarraich')\n",
      "('Omar', 'Mohammad', 'Warraich')\n",
      "('OmarMohammad', 'Warraich', '')\n"
     ]
    }
   ],
   "source": [
    "name=\"OmarMohammadWarraich\"\n",
    "print(name.partition(\"Omar\"))           # Omar is the separator\n",
    "print(name.partition(\"Mohammad\"))       # Mohammad is the separator\n",
    "print(name.partition(\"Warraich\"))"
   ]
  },
  {
   "cell_type": "code",
   "execution_count": 118,
   "metadata": {},
   "outputs": [
    {
     "name": "stdout",
     "output_type": "stream",
     "text": [
      "Omar Mohammad\n"
     ]
    }
   ],
   "source": [
    "name=\"Omar Warraich\"\n",
    "print(name.replace(\"Warraich\",\"Mohammad\"))  # Warraich is replaced by Mohammad"
   ]
  },
  {
   "cell_type": "code",
   "execution_count": 124,
   "metadata": {},
   "outputs": [
    {
     "name": "stdout",
     "output_type": "stream",
     "text": [
      "-1\n",
      "11\n",
      "11\n"
     ]
    },
    {
     "ename": "ValueError",
     "evalue": "substring not found",
     "output_type": "error",
     "traceback": [
      "\u001b[1;31m---------------------------------------------------------------------------\u001b[0m",
      "\u001b[1;31mValueError\u001b[0m                                Traceback (most recent call last)",
      "\u001b[1;32m<ipython-input-124-fb73abfea0cb>\u001b[0m in \u001b[0;36m<module>\u001b[1;34m\u001b[0m\n\u001b[0;32m      3\u001b[0m \u001b[0mprint\u001b[0m\u001b[1;33m(\u001b[0m\u001b[0mname\u001b[0m\u001b[1;33m.\u001b[0m\u001b[0mfind\u001b[0m\u001b[1;33m(\u001b[0m\u001b[1;34m\"c\"\u001b[0m\u001b[1;33m)\u001b[0m\u001b[1;33m)\u001b[0m                   \u001b[1;31m# it prints the index no of the specified alphabet, returns -1 if it isnt there\u001b[0m\u001b[1;33m\u001b[0m\u001b[1;33m\u001b[0m\u001b[0m\n\u001b[0;32m      4\u001b[0m \u001b[0mprint\u001b[0m\u001b[1;33m(\u001b[0m\u001b[0mname\u001b[0m\u001b[1;33m.\u001b[0m\u001b[0mrindex\u001b[0m\u001b[1;33m(\u001b[0m\u001b[1;34m\"c\"\u001b[0m\u001b[1;33m)\u001b[0m\u001b[1;33m)\u001b[0m                 \u001b[1;31m# it prints the index no of the specified alphabet otherwise gives error\u001b[0m\u001b[1;33m\u001b[0m\u001b[1;33m\u001b[0m\u001b[0m\n\u001b[1;32m----> 5\u001b[1;33m \u001b[0mprint\u001b[0m\u001b[1;33m(\u001b[0m\u001b[0mname\u001b[0m\u001b[1;33m.\u001b[0m\u001b[0mrindex\u001b[0m\u001b[1;33m(\u001b[0m\u001b[1;34m\"d\"\u001b[0m\u001b[1;33m)\u001b[0m\u001b[1;33m)\u001b[0m\u001b[1;33m\u001b[0m\u001b[1;33m\u001b[0m\u001b[0m\n\u001b[0m",
      "\u001b[1;31mValueError\u001b[0m: substring not found"
     ]
    }
   ],
   "source": [
    "name=\"Omar Warraich\"\n",
    "print(name.rfind(\"d\"))\n",
    "print(name.find(\"c\"))                   # it prints the index no of the specified alphabet, returns -1 if it isnt there\n",
    "print(name.rindex(\"c\"))                 # it prints the index no of the specified alphabet otherwise gives Value error\n",
    "print(name.rindex(\"d\"))"
   ]
  },
  {
   "cell_type": "code",
   "execution_count": 135,
   "metadata": {},
   "outputs": [
    {
     "name": "stdout",
     "output_type": "stream",
     "text": [
      "**Omar Warraich\n",
      "&&&&&&&Omar Warraich\n",
      "       Omar Warraich\n",
      "       Omar Warraich\n",
      "Omar Warraich\n"
     ]
    }
   ],
   "source": [
    "name = \"Omar Warraich\"\n",
    "print(name.rjust(15,\"*\"))                      # justifies the string to the right side if the justification no is \n",
    "print(name.rjust(20,\"&\"))                      # greater than the total index no of string\n",
    "print(name.rjust(20, \" \"))                     # can be justified by empty white spaces or any specified string\n",
    "print(name.rjust(20))                          # The fill charachter must be exactly one character long or none\n",
    "print(name.rjust(11))"
   ]
  },
  {
   "cell_type": "code",
   "execution_count": 142,
   "metadata": {},
   "outputs": [
    {
     "name": "stdout",
     "output_type": "stream",
     "text": [
      "('', 'Omar', 'MohammadWarraich')\n",
      "('Omar', 'Mohammad', 'Warraich')\n",
      "('OmarMohammad', 'Warraich', '')\n"
     ]
    }
   ],
   "source": [
    "name=\"OmarMohammadWarraich\"\n",
    "print(name.rpartition(\"Omar\"))\n",
    "print(name.rpartition(\"Mohammad\"))              # partition with separator \"Mohammad\" and return tuple\n",
    "print(name.rpartition(\"Warraich\"))"
   ]
  },
  {
   "cell_type": "code",
   "execution_count": 150,
   "metadata": {},
   "outputs": [
    {
     "name": "stdout",
     "output_type": "stream",
     "text": [
      "Omar Mohamamd Warraich                  \n",
      "Omar Mohamamd Warraich\n"
     ]
    }
   ],
   "source": [
    "name= \"Omar Mohamamd Warraich                  \" \n",
    "print(name)                                     # strips the white spaces from the right side of the string\n",
    "print(name.rstrip())"
   ]
  },
  {
   "cell_type": "code",
   "execution_count": 149,
   "metadata": {},
   "outputs": [
    {
     "name": "stdout",
     "output_type": "stream",
     "text": [
      "['Omar', 'Mohammad', 'Warraich']\n",
      "['Omar Mohammad Warraich']\n",
      "True\n",
      "False\n"
     ]
    }
   ],
   "source": [
    "name = \"Omar Mohammad Warraich\"\n",
    "print(name.split())                            # converts the string into a list\n",
    "print(name.splitlines())                       # converts the string into a single list\n",
    "print(name.startswith(\"O\"))                    # returns True if name starts with specified letter else false\n",
    "print(name.startswith(\"M\"))"
   ]
  },
  {
   "cell_type": "code",
   "execution_count": 152,
   "metadata": {},
   "outputs": [
    {
     "name": "stdout",
     "output_type": "stream",
     "text": [
      "                Omar           Mohammad Warraich           \n",
      "Omar           Mohammad Warraich\n"
     ]
    }
   ],
   "source": [
    "name=\"                Omar           Mohammad Warraich           \"\n",
    "print(name)\n",
    "print(name.strip())                           # removes the empty spaces from both the right and left side but not in btw"
   ]
  },
  {
   "cell_type": "code",
   "execution_count": 154,
   "metadata": {},
   "outputs": [
    {
     "name": "stdout",
     "output_type": "stream",
     "text": [
      "oMAR mOHAMMAD wARRAICH\n",
      "OmAR MoHAMMAD WarrAICH\n"
     ]
    }
   ],
   "source": [
    "name=\"Omar Mohammad Warraich\"\n",
    "print(name.swapcase())                        # swaps the upper case into lower case and vice versa\n",
    "name = \"oMar mOhammad wARRaich\"\n",
    "print(name.swapcase())"
   ]
  },
  {
   "cell_type": "code",
   "execution_count": 155,
   "metadata": {},
   "outputs": [
    {
     "name": "stdout",
     "output_type": "stream",
     "text": [
      "Omar Waraich\n"
     ]
    }
   ],
   "source": [
    "name = \"oMAR waRaich\"\n",
    "print(name.title())                           # capitalizes the first letter of every word with remaining letters lowercase"
   ]
  },
  {
   "cell_type": "code",
   "execution_count": 158,
   "metadata": {},
   "outputs": [
    {
     "name": "stdout",
     "output_type": "stream",
     "text": [
      "{97: 49, 44: 44, 98: 50, 99: 51, 100: 52, 101: 53}\n",
      "l5ts pl1y 3ri3k5t\n"
     ]
    },
    {
     "data": {
      "text/plain": [
       "','"
      ]
     },
     "execution_count": 158,
     "metadata": {},
     "output_type": "execute_result"
    }
   ],
   "source": [
    "name = \"lets play cricket\"\n",
    "name1= \"a,b,c,d,e\"\n",
    "name2= \"1,2,3,4,5\"\n",
    "t=name.maketrans(name1,name2)\n",
    "print(t)\n",
    "t=name.translate(t)\n",
    "print(t)\n",
    "chr(44)"
   ]
  },
  {
   "cell_type": "code",
   "execution_count": 159,
   "metadata": {},
   "outputs": [
    {
     "name": "stdout",
     "output_type": "stream",
     "text": [
      "OMAR MOHAMMAD\n"
     ]
    }
   ],
   "source": [
    "name=\"omar MoHammad\"\n",
    "print(name.upper())                           # converts the whole string into uppercase"
   ]
  },
  {
   "cell_type": "code",
   "execution_count": 163,
   "metadata": {},
   "outputs": [
    {
     "name": "stdout",
     "output_type": "stream",
     "text": [
      "0000000Omar Mohammad\n",
      "00Omar Mohammad\n",
      "Omar Mohammad\n",
      "Omar Mohammad\n"
     ]
    }
   ],
   "source": [
    "name=\"Omar Mohammad\"\n",
    "print(name.zfill(20))\n",
    "print(name.zfill(15))                         # add zeroes to the left of the string if the specified no is greater than the \n",
    "print(name.zfill(13))                        #  max index value of the string to equalize the index value and specified no\n",
    "print(name.zfill(10))                        #  otherwise string is return unchanged "
   ]
  },
  {
   "cell_type": "code",
   "execution_count": 164,
   "metadata": {},
   "outputs": [
    {
     "data": {
      "text/plain": [
       "14685.0"
      ]
     },
     "execution_count": 164,
     "metadata": {},
     "output_type": "execute_result"
    }
   ],
   "source": [
    "20 + 40 - 85 / 17 + 85 - 123 + 45 * 123 - 22 + 45 * 175 / 35 + 22 / 11 - 12 + 12 + 15 + 19 - 99 + 75 * 12 * 10 - 7"
   ]
  },
  {
   "cell_type": "code",
   "execution_count": 165,
   "metadata": {},
   "outputs": [
    {
     "data": {
      "text/plain": [
       "-263785799.98094913"
      ]
     },
     "execution_count": 165,
     "metadata": {},
     "output_type": "execute_result"
    }
   ],
   "source": [
    "12434 + 57033 - 59692 + 69782 * 24876 / 2597 + 5972 - 5965 + 59673 * 50285 / 482 + 5038 - 54937 * 4927 + 5068 - 24942 "
   ]
  },
  {
   "cell_type": "code",
   "execution_count": null,
   "metadata": {},
   "outputs": [],
   "source": []
  }
 ],
 "metadata": {
  "kernelspec": {
   "display_name": "Python 3",
   "language": "python",
   "name": "python3"
  },
  "language_info": {
   "codemirror_mode": {
    "name": "ipython",
    "version": 3
   },
   "file_extension": ".py",
   "mimetype": "text/x-python",
   "name": "python",
   "nbconvert_exporter": "python",
   "pygments_lexer": "ipython3",
   "version": "3.7.4"
  }
 },
 "nbformat": 4,
 "nbformat_minor": 2
}
